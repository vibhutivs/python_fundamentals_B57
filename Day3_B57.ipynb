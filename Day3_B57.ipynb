{
 "cells": [
  {
   "cell_type": "code",
   "execution_count": 8,
   "id": "8f341bc9",
   "metadata": {},
   "outputs": [
    {
     "name": "stdout",
     "output_type": "stream",
     "text": [
      "teja kumar\n"
     ]
    }
   ],
   "source": [
    "#continuation with strings:-\n",
    "full_name = 'teja kumar'\n",
    "print (full_name)    \n"
   ]
  },
  {
   "cell_type": "code",
   "execution_count": 15,
   "id": "4e4e06e4",
   "metadata": {},
   "outputs": [
    {
     "name": "stdout",
     "output_type": "stream",
     "text": [
      "Teja Kumar\n",
      "TEJA KUMAR\n",
      "teja kumar\n"
     ]
    }
   ],
   "source": [
    "#String Methods:-\n",
    "\n",
    "print (full_name.title())   # to get output in proper case\n",
    "\n",
    "print (full_name.upper())   # to get output in upper case\n",
    "\n",
    "print (full_name.lower())   # to get output in lower case"
   ]
  },
  {
   "cell_type": "code",
   "execution_count": 16,
   "id": "17076486",
   "metadata": {},
   "outputs": [
    {
     "data": {
      "text/plain": [
       "str"
      ]
     },
     "execution_count": 16,
     "metadata": {},
     "output_type": "execute_result"
    }
   ],
   "source": [
    "type (full_name)          # to get the datatype in output\n",
    "                          # type method will be helping us to validate and confirm the datatype"
   ]
  },
  {
   "cell_type": "code",
   "execution_count": 45,
   "id": "3b07cd19",
   "metadata": {},
   "outputs": [
    {
     "name": "stdout",
     "output_type": "stream",
     "text": [
      "Vibhuti Sharma\n"
     ]
    }
   ],
   "source": [
    "# Introduction to 'f' strings:-\n",
    "first_name = 'Vibhuti'\n",
    "last_name = 'Sharma'\n",
    "\n",
    "full_name = (f\"{first_name} {last_name}\")\n",
    "print (full_name)"
   ]
  },
  {
   "cell_type": "code",
   "execution_count": 48,
   "id": "4c970cf9",
   "metadata": {},
   "outputs": [
    {
     "name": "stdout",
     "output_type": "stream",
     "text": [
      "good going Vibhuti Sharma\n"
     ]
    }
   ],
   "source": [
    "message = (f\"good going {full_name.title()}\")\n",
    "print (message)"
   ]
  },
  {
   "cell_type": "code",
   "execution_count": 53,
   "id": "6dc64f12",
   "metadata": {},
   "outputs": [
    {
     "name": "stdout",
     "output_type": "stream",
     "text": [
      "fav_prog_lang:Pythonc++javacswiftcobalPascal\n",
      "fav_prog_lang:\n",
      "Python\n",
      "c++\n",
      "javac\n",
      "swift\n",
      "cobal\n",
      "Pascal\n",
      "fav_prog_lang:\n",
      "\tPython\n",
      "\tc++\n",
      "\tjava\n",
      "\tc\n",
      "\tswift\n",
      "\tcobal\n",
      "\tPascal\n",
      "fav_prog_lang:\tPython\tc++\tjava\tc\tswift\tcobal\tPascal\n"
     ]
    }
   ],
   "source": [
    "# Adding whitespaces to the strings :-\n",
    "\n",
    "print ('fav_prog_lang:Pythonc++javacswiftcobalPascal')\n",
    "\n",
    "print ('fav_prog_lang:\\nPython\\nc++\\njavac\\nswift\\ncobal\\nPascal') #\\n is a line breaker. when placed between the string it breaks the string.\n",
    "\n",
    "print ('fav_prog_lang:\\n\\tPython\\n\\tc++\\n\\tjava\\n\\tc\\n\\tswift\\n\\tcobal\\n\\tPascal') #\\t slightly ,oves the string to right when place infront of it.\n",
    "\n",
    "print ('fav_prog_lang:\\tPython\\tc++\\tjava\\tc\\tswift\\tcobal\\tPascal')"
   ]
  },
  {
   "cell_type": "markdown",
   "id": "68575e60",
   "metadata": {},
   "source": [
    "#Removing whitespaces from the strings:-\n",
    "#ex1.\n",
    "name = 'namitha'\n",
    "print (name)"
   ]
  },
  {
   "cell_type": "code",
   "execution_count": 57,
   "id": "181cafcd",
   "metadata": {},
   "outputs": [
    {
     "name": "stdout",
     "output_type": "stream",
     "text": [
      "Vibhuti\n",
      "   Vibhuti\n",
      "vibhuti   \n"
     ]
    }
   ],
   "source": [
    "##Removing whitespaces from the strings:- \n",
    "#ex1. \n",
    "name = 'Vibhuti'\n",
    "print (name)\n",
    "\n",
    "#ex2.\n",
    "\n",
    "Name2 = '   Vibhuti'\n",
    "print (Name2)\n",
    "\n",
    "#ex3.\n",
    "\n",
    "Name3 = 'vibhuti   '\n",
    "print (Name3)\n",
    "\n",
    "#in ex2. & ex3, there is a whitespace in the string. at starting and at the end repectively. "
   ]
  },
  {
   "cell_type": "code",
   "execution_count": 61,
   "id": "3fcad146",
   "metadata": {},
   "outputs": [
    {
     "data": {
      "text/plain": [
       "'vibhuti'"
      ]
     },
     "execution_count": 61,
     "metadata": {},
     "output_type": "execute_result"
    }
   ],
   "source": [
    "#to remmove the whitespaces we use strip() command.\n",
    "#ex2.\n",
    "Name2.strip()\n",
    "Name3.strip()"
   ]
  },
  {
   "cell_type": "code",
   "execution_count": null,
   "id": "2f6bc715",
   "metadata": {},
   "outputs": [],
   "source": []
  },
  {
   "cell_type": "code",
   "execution_count": null,
   "id": "2f27ed7d",
   "metadata": {},
   "outputs": [],
   "source": []
  },
  {
   "cell_type": "code",
   "execution_count": null,
   "id": "ab58ea42",
   "metadata": {},
   "outputs": [],
   "source": []
  },
  {
   "cell_type": "code",
   "execution_count": null,
   "id": "781aad33",
   "metadata": {},
   "outputs": [],
   "source": []
  },
  {
   "cell_type": "code",
   "execution_count": null,
   "id": "49ca5aee",
   "metadata": {},
   "outputs": [],
   "source": []
  },
  {
   "cell_type": "code",
   "execution_count": null,
   "id": "a8ab6a3f",
   "metadata": {},
   "outputs": [],
   "source": []
  },
  {
   "cell_type": "code",
   "execution_count": null,
   "id": "935c533d",
   "metadata": {},
   "outputs": [],
   "source": []
  },
  {
   "cell_type": "code",
   "execution_count": null,
   "id": "9c2f2d90",
   "metadata": {},
   "outputs": [],
   "source": []
  },
  {
   "cell_type": "code",
   "execution_count": null,
   "id": "e3544b1b",
   "metadata": {},
   "outputs": [],
   "source": []
  },
  {
   "cell_type": "code",
   "execution_count": null,
   "id": "1e0fba35",
   "metadata": {},
   "outputs": [],
   "source": []
  },
  {
   "cell_type": "code",
   "execution_count": null,
   "id": "873dac22",
   "metadata": {},
   "outputs": [],
   "source": []
  },
  {
   "cell_type": "code",
   "execution_count": null,
   "id": "e67b427a",
   "metadata": {},
   "outputs": [],
   "source": []
  }
 ],
 "metadata": {
  "kernelspec": {
   "display_name": "Python 3 (ipykernel)",
   "language": "python",
   "name": "python3"
  },
  "language_info": {
   "codemirror_mode": {
    "name": "ipython",
    "version": 3
   },
   "file_extension": ".py",
   "mimetype": "text/x-python",
   "name": "python",
   "nbconvert_exporter": "python",
   "pygments_lexer": "ipython3",
   "version": "3.9.7"
  }
 },
 "nbformat": 4,
 "nbformat_minor": 5
}
