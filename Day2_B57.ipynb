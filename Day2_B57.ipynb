{
 "cells": [
  {
   "cell_type": "code",
   "execution_count": null,
   "id": "2f5100ab",
   "metadata": {},
   "outputs": [],
   "source": [
    "#Understanding the variables in Python:-\n"
   ]
  },
  {
   "cell_type": "code",
   "execution_count": 9,
   "id": "a02737e6",
   "metadata": {},
   "outputs": [
    {
     "ename": "SyntaxError",
     "evalue": "invalid syntax (Temp/ipykernel_8064/4206581643.py, line 2)",
     "output_type": "error",
     "traceback": [
      "\u001b[1;36m  File \u001b[1;32m\"C:\\Users\\Vibhuti\\AppData\\Local\\Temp/ipykernel_8064/4206581643.py\"\u001b[1;36m, line \u001b[1;32m2\u001b[0m\n\u001b[1;33m    1. No name space while entering the variable name.\u001b[0m\n\u001b[1;37m       ^\u001b[0m\n\u001b[1;31mSyntaxError\u001b[0m\u001b[1;31m:\u001b[0m invalid syntax\n"
     ]
    }
   ],
   "source": [
    "# Rules for declaring the variables in the Python:\n",
    "1. No name space while entering the variable name.\n",
    "\n",
    "ex. first name = 'vibhuti'\n",
    "print (first name)"
   ]
  },
  {
   "cell_type": "code",
   "execution_count": 10,
   "id": "aa03854a",
   "metadata": {},
   "outputs": [
    {
     "name": "stdout",
     "output_type": "stream",
     "text": [
      "vibhuti\n"
     ]
    }
   ],
   "source": [
    "firstname = 'vibhuti'\n",
    "print(firstname)"
   ]
  },
  {
   "cell_type": "code",
   "execution_count": 13,
   "id": "1711bb83",
   "metadata": {},
   "outputs": [
    {
     "ename": "SyntaxError",
     "evalue": "invalid syntax (Temp/ipykernel_8064/2255099702.py, line 2)",
     "output_type": "error",
     "traceback": [
      "\u001b[1;36m  File \u001b[1;32m\"C:\\Users\\Vibhuti\\AppData\\Local\\Temp/ipykernel_8064/2255099702.py\"\u001b[1;36m, line \u001b[1;32m2\u001b[0m\n\u001b[1;33m    ex. 1name = 'vibhuti'\u001b[0m\n\u001b[1;37m        ^\u001b[0m\n\u001b[1;31mSyntaxError\u001b[0m\u001b[1;31m:\u001b[0m invalid syntax\n"
     ]
    }
   ],
   "source": [
    "#2.A variable should not start with a number, but it may end with a number or number may come in between the variable name.\n",
    "ex. 1name = 'vibhuti'\n",
    "print (1name)"
   ]
  },
  {
   "cell_type": "code",
   "execution_count": 12,
   "id": "09129cef",
   "metadata": {},
   "outputs": [
    {
     "name": "stdout",
     "output_type": "stream",
     "text": [
      "vibhuti\n"
     ]
    }
   ],
   "source": [
    "name1 = 'vibhuti'\n",
    "print (name1)"
   ]
  },
  {
   "cell_type": "code",
   "execution_count": 14,
   "id": "f95c560f",
   "metadata": {},
   "outputs": [
    {
     "ename": "SyntaxError",
     "evalue": "invalid syntax (Temp/ipykernel_8064/912298882.py, line 2)",
     "output_type": "error",
     "traceback": [
      "\u001b[1;36m  File \u001b[1;32m\"C:\\Users\\Vibhuti\\AppData\\Local\\Temp/ipykernel_8064/912298882.py\"\u001b[1;36m, line \u001b[1;32m2\u001b[0m\n\u001b[1;33m    ex. name@ = 'vibhuti'\u001b[0m\n\u001b[1;37m              ^\u001b[0m\n\u001b[1;31mSyntaxError\u001b[0m\u001b[1;31m:\u001b[0m invalid syntax\n"
     ]
    }
   ],
   "source": [
    "#3. A variable name should not contain any special characters i.e. @,$,%,&,*....\n",
    "ex. name@ = 'vibhuti'\n",
    "print (name@)"
   ]
  },
  {
   "cell_type": "code",
   "execution_count": 16,
   "id": "ff874e5d",
   "metadata": {},
   "outputs": [
    {
     "name": "stdout",
     "output_type": "stream",
     "text": [
      "Vibhuti\n"
     ]
    }
   ],
   "source": [
    "name='Vibhuti'\n",
    "print (name)"
   ]
  },
  {
   "cell_type": "code",
   "execution_count": 18,
   "id": "7e8e8ca3",
   "metadata": {},
   "outputs": [],
   "source": [
    "# Introduction to datatypes in Python:\n",
    "#1. string\n",
    "#2. List\n",
    "#3. Numbers ------> integers & Floats (decimals)\n",
    "#4. Tuple\n",
    "#5. Dictionaries\n"
   ]
  },
  {
   "cell_type": "code",
   "execution_count": null,
   "id": "aa2aa824",
   "metadata": {},
   "outputs": [],
   "source": [
    "# Classification of datatypes:-\n",
    "#1. Mutable datatypes :- which can be edited or altered, flexibale in nature.\n",
    "#2. Inmutable datatypes :- Whiich can not be edited or altered, fixed in nature.    "
   ]
  },
  {
   "cell_type": "code",
   "execution_count": null,
   "id": "b44ce6b7",
   "metadata": {},
   "outputs": [],
   "source": [
    "#Itroduction to string types:-\n",
    "# Defination :- A string is nothing but a series of characters declared in quotes.\n",
    "# Classification :- it is inmutable datatype, i.e. fixed in nature.\n"
   ]
  },
  {
   "cell_type": "code",
   "execution_count": 35,
   "id": "c1b454bc",
   "metadata": {},
   "outputs": [
    {
     "name": "stdout",
     "output_type": "stream",
     "text": [
      "Vibhti\n",
      "Delhi\n",
      "India\n"
     ]
    }
   ],
   "source": [
    "#How to declare a string:-\n",
    "#1. single quote\n",
    "#ex. of single quote\n",
    "name= 'Vibhti'\n",
    "print (name)\n",
    "#2. Double Quote\n",
    "\n",
    "City = \"Delhi\" #ex. of double quote\n",
    "print (City)\n",
    "#3. Triple quote\n",
    "country= \"\"\"India\"\"\" #ex. of triple quote\n",
    "print (country)"
   ]
  },
  {
   "cell_type": "code",
   "execution_count": null,
   "id": "c378ecbe",
   "metadata": {},
   "outputs": [],
   "source": []
  }
 ],
 "metadata": {
  "kernelspec": {
   "display_name": "Python 3 (ipykernel)",
   "language": "python",
   "name": "python3"
  },
  "language_info": {
   "codemirror_mode": {
    "name": "ipython",
    "version": 3
   },
   "file_extension": ".py",
   "mimetype": "text/x-python",
   "name": "python",
   "nbconvert_exporter": "python",
   "pygments_lexer": "ipython3",
   "version": "3.9.7"
  }
 },
 "nbformat": 4,
 "nbformat_minor": 5
}
