{
 "cells": [
  {
   "cell_type": "code",
   "execution_count": null,
   "id": "93acc804",
   "metadata": {},
   "outputs": [],
   "source": [
    "#Introduction to list Datatype:-\n",
    "#Defination:- A list is a collection of items declared is a practicular order.\n",
    "#Classification:- It is a classified as a mutable datatype.\n"
   ]
  },
  {
   "cell_type": "code",
   "execution_count": 2,
   "id": "5332090a",
   "metadata": {},
   "outputs": [],
   "source": [
    "# How to declare a list.....?\n",
    "#ex.\n",
    "students = ['naveen','rohit','simran','kavya','sandeep','abdul']"
   ]
  },
  {
   "cell_type": "code",
   "execution_count": 3,
   "id": "7b4ea59b",
   "metadata": {},
   "outputs": [
    {
     "name": "stdout",
     "output_type": "stream",
     "text": [
      "['naveen', 'rohit', 'simran', 'kavya', 'sandeep', 'abdul']\n"
     ]
    }
   ],
   "source": [
    "print (students)"
   ]
  },
  {
   "cell_type": "code",
   "execution_count": 4,
   "id": "23b5ef57",
   "metadata": {},
   "outputs": [
    {
     "data": {
      "text/plain": [
       "list"
      ]
     },
     "execution_count": 4,
     "metadata": {},
     "output_type": "execute_result"
    }
   ],
   "source": [
    "type(students)"
   ]
  },
  {
   "cell_type": "code",
   "execution_count": null,
   "id": "a021c24c",
   "metadata": {},
   "outputs": [],
   "source": [
    "#Introduction to indexing:-\n",
    "#0,1,2,3,4,.........,n!\n",
    "#so in a particular order implementation of the list in order it refers to the indexing.\n"
   ]
  },
  {
   "cell_type": "code",
   "execution_count": null,
   "id": "c86d37ec",
   "metadata": {},
   "outputs": [],
   "source": [
    "# how to access the individual element in a list.....?\n",
    "#ans. by refering to the index number. i.e print(list[ref!])\n"
   ]
  },
  {
   "cell_type": "code",
   "execution_count": 6,
   "id": "8217265c",
   "metadata": {},
   "outputs": [
    {
     "name": "stdout",
     "output_type": "stream",
     "text": [
      "naveen\n",
      "kavya\n"
     ]
    }
   ],
   "source": [
    "#Req I want to access 'naveen' fromthe above...!\n",
    "print (students[0])\n",
    "print (students[3])\n"
   ]
  },
  {
   "cell_type": "code",
   "execution_count": 7,
   "id": "46451f0d",
   "metadata": {},
   "outputs": [
    {
     "name": "stdout",
     "output_type": "stream",
     "text": [
      "['naveen', 'rohit', 'simran', 'kavya', 'sandeep', 'abdul']\n"
     ]
    }
   ],
   "source": [
    "#1. How to add new elements to the list?\n",
    "#2. How to modify the elements in the list?\n",
    "#3. How to delete the elements in the list?\n",
    "print (students)"
   ]
  },
  {
   "cell_type": "code",
   "execution_count": 9,
   "id": "079d6ace",
   "metadata": {},
   "outputs": [],
   "source": [
    "#1.* req:- I want to add 'Kalyan' to my students list.....!\n",
    "students.append('kalyan') #.append is use to add string in list."
   ]
  },
  {
   "cell_type": "code",
   "execution_count": 10,
   "id": "bbc2a7ac",
   "metadata": {},
   "outputs": [
    {
     "name": "stdout",
     "output_type": "stream",
     "text": [
      "['naveen', 'rohit', 'simran', 'kavya', 'sandeep', 'abdul', 'kalyan', 'kalyan']\n"
     ]
    }
   ],
   "source": [
    "print (students)"
   ]
  },
  {
   "cell_type": "code",
   "execution_count": 11,
   "id": "40315d0b",
   "metadata": {},
   "outputs": [],
   "source": [
    "#2.* I want ot add 'sujan' to my above student list....!\n",
    "students.append ('sujan')"
   ]
  },
  {
   "cell_type": "code",
   "execution_count": 12,
   "id": "5e96dafe",
   "metadata": {},
   "outputs": [
    {
     "name": "stdout",
     "output_type": "stream",
     "text": [
      "['naveen', 'rohit', 'simran', 'kavya', 'sandeep', 'abdul', 'kalyan', 'kalyan', 'sujan']\n"
     ]
    }
   ],
   "source": [
    "print (students)"
   ]
  },
  {
   "cell_type": "code",
   "execution_count": 14,
   "id": "835c29e1",
   "metadata": {},
   "outputs": [],
   "source": [
    "#Req I want to add 'yeshwant' to 2nd index....!\n",
    "students.insert(2,'yeshwant')"
   ]
  },
  {
   "cell_type": "code",
   "execution_count": 15,
   "id": "b0766c3b",
   "metadata": {},
   "outputs": [
    {
     "name": "stdout",
     "output_type": "stream",
     "text": [
      "['naveen', 'rohit', 'yeshwant', 'simran', 'kavya', 'sandeep', 'abdul', 'kalyan', 'kalyan', 'sujan']\n"
     ]
    }
   ],
   "source": [
    "print (students)"
   ]
  },
  {
   "cell_type": "code",
   "execution_count": 18,
   "id": "6f900286",
   "metadata": {},
   "outputs": [],
   "source": [
    "#so 'yeshwant' is added to 2nd ref.\n",
    "#Q what is the difference between append & insert method in a list?\n",
    "#Append                                                        Insert\n",
    "#. Is use to add the item in a list    |   . is used to add the item in a list at our desired location.\n",
    "#.Syntax listname.append[name]         |   . syntax listname.insert(index.ref,item) "
   ]
  },
  {
   "cell_type": "code",
   "execution_count": 19,
   "id": "58469841",
   "metadata": {},
   "outputs": [
    {
     "name": "stdout",
     "output_type": "stream",
     "text": [
      "['naveen', 'rohit', 'yeshwant', 'simran', 'kavya', 'sandeep', 'abdul', 'kalyan', 'kalyan', 'sujan']\n"
     ]
    }
   ],
   "source": [
    "#2. HOw to modify the elemet in the list......?\n",
    "print (students)"
   ]
  },
  {
   "cell_type": "code",
   "execution_count": 24,
   "id": "9706bdc9",
   "metadata": {},
   "outputs": [
    {
     "name": "stdout",
     "output_type": "stream",
     "text": [
      "['naveen', 'kumar', 'yeshwant', 'simran', 'kavya', 'sandeep', 'abdul', 'kalyan', 'kalyan', 'sujan']\n"
     ]
    }
   ],
   "source": [
    "# req. I want to modify 'rohit' name to 'kumar'.....!\n",
    "#syntax... listname[ref.index]='item'\n",
    "students[1] = 'kumar'\n",
    "print (students)"
   ]
  },
  {
   "cell_type": "markdown",
   "id": "c5615667",
   "metadata": {},
   "source": []
  },
  {
   "cell_type": "code",
   "execution_count": 26,
   "id": "450818f1",
   "metadata": {},
   "outputs": [
    {
     "name": "stdout",
     "output_type": "stream",
     "text": [
      "['naveen', 'kumar', 'yeshwant', 'sandeep', 'abdul', 'kalyan', 'kalyan', 'sujan']\n"
     ]
    }
   ],
   "source": [
    "#3. how to delete elements in the list....?\n",
    "#req, I want to delete simran Name....!\n",
    "del students[3]\n",
    "print (students)"
   ]
  },
  {
   "cell_type": "code",
   "execution_count": null,
   "id": "e6feb5bb",
   "metadata": {},
   "outputs": [],
   "source": []
  },
  {
   "cell_type": "code",
   "execution_count": null,
   "id": "f78f572e",
   "metadata": {},
   "outputs": [],
   "source": []
  },
  {
   "cell_type": "code",
   "execution_count": null,
   "id": "1f3a5c2f",
   "metadata": {},
   "outputs": [],
   "source": []
  }
 ],
 "metadata": {
  "kernelspec": {
   "display_name": "Python 3 (ipykernel)",
   "language": "python",
   "name": "python3"
  },
  "language_info": {
   "codemirror_mode": {
    "name": "ipython",
    "version": 3
   },
   "file_extension": ".py",
   "mimetype": "text/x-python",
   "name": "python",
   "nbconvert_exporter": "python",
   "pygments_lexer": "ipython3",
   "version": "3.9.7"
  }
 },
 "nbformat": 4,
 "nbformat_minor": 5
}
